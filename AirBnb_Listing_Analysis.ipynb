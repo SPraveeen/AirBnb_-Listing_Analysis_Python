{
 "cells": [
  {
   "cell_type": "markdown",
   "id": "a92e51a5-58cf-4959-8531-5c78d6fb3272",
   "metadata": {},
   "source": [
    "**AirBnb Listing Analysis**"
   ]
  },
  {
   "cell_type": "markdown",
   "id": "7853e2a3-255a-4b27-9bf4-3b0621a4b466",
   "metadata": {},
   "source": [
    "**Objective 1: Data Prep & QA**\n",
    "- Read in the AirBnb listings Data (use low_memory=False and encoding=\"ISO-8859-1 in read-csv)\n",
    "- Cast any date columns as a datetime format.\n",
    "- Filter down the data to just listings in the city of paris\n",
    "- QA the paris listings data: check for missing values, and calculate the min, max and avg for each numeric field"
   ]
  },
  {
   "cell_type": "code",
   "execution_count": null,
   "id": "24788b75-8598-43d5-8836-e7fb2d20033d",
   "metadata": {},
   "outputs": [],
   "source": []
  }
 ],
 "metadata": {
  "kernelspec": {
   "display_name": "Python 3 (ipykernel)",
   "language": "python",
   "name": "python3"
  },
  "language_info": {
   "codemirror_mode": {
    "name": "ipython",
    "version": 3
   },
   "file_extension": ".py",
   "mimetype": "text/x-python",
   "name": "python",
   "nbconvert_exporter": "python",
   "pygments_lexer": "ipython3",
   "version": "3.13.3"
  }
 },
 "nbformat": 4,
 "nbformat_minor": 5
}
